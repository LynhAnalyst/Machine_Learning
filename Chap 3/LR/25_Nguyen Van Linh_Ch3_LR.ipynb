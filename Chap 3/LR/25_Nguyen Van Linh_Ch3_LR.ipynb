{
 "cells": [
  {
   "cell_type": "markdown",
   "id": "43287c92-0309-442a-91b4-9aabb5aaf6af",
   "metadata": {
    "tags": []
   },
   "source": [
    "## Dự đoán chiều cao của con:\n",
    "- Tập dữ liệu gồm cặp giá trị về chiều cao của bố và con (Father, Son)\n",
    "- Huấn luyện mô hình hồi quy tuyến tính \n",
    "- Sử dụng mô hình để dự đoán chiều cao của con thông qua chiều cao của bố (cho trước)"
   ]
  },
  {
   "cell_type": "code",
   "execution_count": 1,
   "id": "5f5e91d7-58f0-40cf-a9b8-6835b62d7d2a",
   "metadata": {},
   "outputs": [],
   "source": [
    "import numpy as np\n",
    "import pandas as pd\n",
    "from sklearn import datasets, linear_model\n",
    "import matplotlib.pyplot as plt"
   ]
  },
  {
   "cell_type": "code",
   "execution_count": 2,
   "id": "68c301c2-19be-4cd6-a746-80daf4a5cb0a",
   "metadata": {},
   "outputs": [
    {
     "data": {
      "text/html": [
       "<div>\n",
       "<style scoped>\n",
       "    .dataframe tbody tr th:only-of-type {\n",
       "        vertical-align: middle;\n",
       "    }\n",
       "\n",
       "    .dataframe tbody tr th {\n",
       "        vertical-align: top;\n",
       "    }\n",
       "\n",
       "    .dataframe thead th {\n",
       "        text-align: right;\n",
       "    }\n",
       "</style>\n",
       "<table border=\"1\" class=\"dataframe\">\n",
       "  <thead>\n",
       "    <tr style=\"text-align: right;\">\n",
       "      <th></th>\n",
       "      <th>Father</th>\n",
       "      <th>Son</th>\n",
       "      <th>Weight</th>\n",
       "      <th>Index</th>\n",
       "    </tr>\n",
       "  </thead>\n",
       "  <tbody>\n",
       "    <tr>\n",
       "      <th>0</th>\n",
       "      <td>65.0</td>\n",
       "      <td>59.8</td>\n",
       "      <td>96</td>\n",
       "      <td>4</td>\n",
       "    </tr>\n",
       "    <tr>\n",
       "      <th>1</th>\n",
       "      <td>63.3</td>\n",
       "      <td>63.2</td>\n",
       "      <td>87</td>\n",
       "      <td>2</td>\n",
       "    </tr>\n",
       "    <tr>\n",
       "      <th>2</th>\n",
       "      <td>65.0</td>\n",
       "      <td>63.3</td>\n",
       "      <td>110</td>\n",
       "      <td>4</td>\n",
       "    </tr>\n",
       "    <tr>\n",
       "      <th>3</th>\n",
       "      <td>65.8</td>\n",
       "      <td>62.8</td>\n",
       "      <td>104</td>\n",
       "      <td>3</td>\n",
       "    </tr>\n",
       "    <tr>\n",
       "      <th>4</th>\n",
       "      <td>61.1</td>\n",
       "      <td>64.3</td>\n",
       "      <td>61</td>\n",
       "      <td>3</td>\n",
       "    </tr>\n",
       "    <tr>\n",
       "      <th>5</th>\n",
       "      <td>63.0</td>\n",
       "      <td>64.2</td>\n",
       "      <td>104</td>\n",
       "      <td>3</td>\n",
       "    </tr>\n",
       "    <tr>\n",
       "      <th>6</th>\n",
       "      <td>65.4</td>\n",
       "      <td>64.1</td>\n",
       "      <td>92</td>\n",
       "      <td>5</td>\n",
       "    </tr>\n",
       "    <tr>\n",
       "      <th>7</th>\n",
       "      <td>64.7</td>\n",
       "      <td>64.0</td>\n",
       "      <td>111</td>\n",
       "      <td>5</td>\n",
       "    </tr>\n",
       "    <tr>\n",
       "      <th>8</th>\n",
       "      <td>66.1</td>\n",
       "      <td>64.6</td>\n",
       "      <td>90</td>\n",
       "      <td>3</td>\n",
       "    </tr>\n",
       "    <tr>\n",
       "      <th>9</th>\n",
       "      <td>67.0</td>\n",
       "      <td>64.0</td>\n",
       "      <td>103</td>\n",
       "      <td>4</td>\n",
       "    </tr>\n",
       "  </tbody>\n",
       "</table>\n",
       "</div>"
      ],
      "text/plain": [
       "   Father   Son  Weight  Index\n",
       "0    65.0  59.8      96      4\n",
       "1    63.3  63.2      87      2\n",
       "2    65.0  63.3     110      4\n",
       "3    65.8  62.8     104      3\n",
       "4    61.1  64.3      61      3\n",
       "5    63.0  64.2     104      3\n",
       "6    65.4  64.1      92      5\n",
       "7    64.7  64.0     111      5\n",
       "8    66.1  64.6      90      3\n",
       "9    67.0  64.0     103      4"
      ]
     },
     "execution_count": 2,
     "metadata": {},
     "output_type": "execute_result"
    }
   ],
   "source": [
    "path = '25_Nguyen Van Linh_Ch3_LR.xlsx'\n",
    "df = pd.read_excel(path)\n",
    "df.head(10)"
   ]
  },
  {
   "cell_type": "code",
   "execution_count": 3,
   "id": "89963790-556c-4e72-b746-35e92cc837bc",
   "metadata": {},
   "outputs": [
    {
     "data": {
      "text/plain": [
       "<matplotlib.collections.PathCollection at 0x2cc27123be0>"
      ]
     },
     "execution_count": 3,
     "metadata": {},
     "output_type": "execute_result"
    },
    {
     "data": {
      "image/png": "[encoded data removed]",
      "text/plain": [
       "<Figure size 432x288 with 1 Axes>"
      ]
     },
     "metadata": {
      "needs_background": "light"
     },
     "output_type": "display_data"
    }
   ],
   "source": [
    "%matplotlib inline\n",
    "plt.xlabel('Father' + '(heigh)')\n",
    "plt.ylabel('Son' + '(heigh)')\n",
    "plt.scatter(df.Father, df.Son, color = 'red', marker = '+')"
   ]
  },
  {
   "cell_type": "code",
   "execution_count": 4,
   "id": "cb247b0c-ef3b-4e31-878e-0f957b6fb085",
   "metadata": {},
   "outputs": [
    {
     "data": {
      "text/plain": [
       "LinearRegression()"
      ]
     },
     "execution_count": 4,
     "metadata": {},
     "output_type": "execute_result"
    }
   ],
   "source": [
    "# Huấn luyện mô hình\n",
    "regr = linear_model.LinearRegression()\n",
    "regr.fit(df.Father.values.reshape(-1,1), df.Son)"
   ]
  },
  {
   "cell_type": "code",
   "execution_count": 5,
   "id": "208e4148-ee2c-4990-bb90-8f8a9a4b1a45",
   "metadata": {},
   "outputs": [
    {
     "data": {
      "text/plain": [
       "[<matplotlib.lines.Line2D at 0x2cc278c13d0>]"
      ]
     },
     "execution_count": 5,
     "metadata": {},
     "output_type": "execute_result"
    },
    {
     "data": {
      "image/png": "[encoded data removed]",
      "text/plain": [
       "<Figure size 432x288 with 1 Axes>"
      ]
     },
     "metadata": {
      "needs_background": "light"
     },
     "output_type": "display_data"
    }
   ],
   "source": [
    "%matplotlib inline\n",
    "plt.xlabel('Father' + '(inch)')\n",
    "plt.ylabel('Son' + '(inch)')\n",
    "plt.scatter(df.Father, df.Son, color = 'red', marker = '+')\n",
    "\n",
    "plt.plot(df['Father'], regr.predict(df['Father'].values.reshape(-1,1)), color = 'blue')"
   ]
  },
  {
   "cell_type": "code",
   "execution_count": 6,
   "id": "d8d24877-eb84-42c1-8f34-43b9c3aaec69",
   "metadata": {},
   "outputs": [
    {
     "name": "stdout",
     "output_type": "stream",
     "text": [
      "Dự đoán chiều cao của con khi bố có chiều cao %.0f inch là: [59.59309617] inch\n",
      "Dự đoán chiều cao của con khi bố có chiều cao %.0f inch là: [67.91999195] inch\n",
      "Dự đoán chiều cao của con khi bố có chiều cao %.0f inch là: [69.35920851] inch\n"
     ]
    }
   ],
   "source": [
    "# Dự đoán \n",
    "need_prediction = [50.0, 66.2, 69.0]\n",
    "for elen in need_prediction:\n",
    "    print('Dự đoán chiều cao của con khi bố có chiều cao %.0f inch là:', regr.predict([[elen]]), 'inch')"
   ]
  },
  {
   "cell_type": "code",
   "execution_count": null,
   "id": "e67a8f6d-a3c3-4dba-a90a-40b79615df11",
   "metadata": {},
   "outputs": [],
   "source": []
  }
 ],
 "metadata": {
  "kernelspec": {
   "display_name": "Python 3 (ipykernel)",
   "language": "python",
   "name": "python3"
  },
  "language_info": {
   "codemirror_mode": {
    "name": "ipython",
    "version": 3
   },
   "file_extension": ".py",
   "mimetype": "text/x-python",
   "name": "python",
   "nbconvert_exporter": "python",
   "pygments_lexer": "ipython3",
   "version": "3.9.7"
  }
 },
 "nbformat": 4,
 "nbformat_minor": 5
}
